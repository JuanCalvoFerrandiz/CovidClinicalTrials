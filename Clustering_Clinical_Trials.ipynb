{
  "nbformat": 4,
  "nbformat_minor": 0,
  "metadata": {
    "colab": {
      "name": "Clustering-Clinical-Trials.ipynb",
      "provenance": [],
      "collapsed_sections": []
    },
    "kernelspec": {
      "name": "python3",
      "display_name": "Python 3"
    }
  },
  "cells": [
    {
      "cell_type": "markdown",
      "metadata": {
        "id": "pxHtsvK_kEeo",
        "colab_type": "text"
      },
      "source": [
        "In this notebook, I will be performing some clustering on the COVID-19 trials data available from WHO. Each clinical trial has certain interventions defined as: A process or action that is the focus of a clinical study. Interventions include drugs, medical devices, procedures, vaccines, and other products that are either investigational or already available. Interventions can also include noninvasive approaches, such as education or modifying diet and exercise. \n",
        "\n",
        "Clustering the interventions gives us the ability to get a better view of the nature of these clinical trials which further coupled with 'geolocation data' and 'clinical trials to research mapping' can be extremely insightful"
      ]
    },
    {
      "cell_type": "code",
      "metadata": {
        "id": "tpHf0fdcToAK",
        "colab_type": "code",
        "colab": {}
      },
      "source": [
        "from google.colab import drive\n",
        "drive.mount('/content/gdrive')\n",
        "#Getting the imports done\n",
        "import numpy as np \n",
        "import pandas as pd \n",
        "import os\n",
        "import re\n",
        "import numpy as np\n",
        "import pandas as pd\n",
        "import matplotlib.pyplot as plt\n",
        "import tensorflow as tf\n",
        "import xml.etree.ElementTree as ET"
      ],
      "execution_count": 0,
      "outputs": []
    },
    {
      "cell_type": "code",
      "metadata": {
        "id": "QNiGyk8MTq6p",
        "colab_type": "code",
        "outputId": "aef56c92-7c6d-4daa-8190-7871defef4a1",
        "colab": {
          "base_uri": "https://localhost:8080/",
          "height": 643
        }
      },
      "source": [
        "#Reading in our file\n",
        "df = pd.read_csv(\"gdrive/My Drive/COVID19.csv\")\n",
        "df.head()"
      ],
      "execution_count": 244,
      "outputs": [
        {
          "output_type": "execute_result",
          "data": {
            "text/html": [
              "<div>\n",
              "<style scoped>\n",
              "    .dataframe tbody tr th:only-of-type {\n",
              "        vertical-align: middle;\n",
              "    }\n",
              "\n",
              "    .dataframe tbody tr th {\n",
              "        vertical-align: top;\n",
              "    }\n",
              "\n",
              "    .dataframe thead th {\n",
              "        text-align: right;\n",
              "    }\n",
              "</style>\n",
              "<table border=\"1\" class=\"dataframe\">\n",
              "  <thead>\n",
              "    <tr style=\"text-align: right;\">\n",
              "      <th></th>\n",
              "      <th>TrialID</th>\n",
              "      <th>Last Refreshed on</th>\n",
              "      <th>Public title</th>\n",
              "      <th>Scientific title</th>\n",
              "      <th>Acronym</th>\n",
              "      <th>Primary sponsor</th>\n",
              "      <th>Date registration</th>\n",
              "      <th>Date registration3</th>\n",
              "      <th>Export date</th>\n",
              "      <th>Source Register</th>\n",
              "      <th>web address</th>\n",
              "      <th>Recruitment Status</th>\n",
              "      <th>other records</th>\n",
              "      <th>Inclusion agemin</th>\n",
              "      <th>Inclusion agemax</th>\n",
              "      <th>Inclusion gender</th>\n",
              "      <th>Date enrollement</th>\n",
              "      <th>Target size</th>\n",
              "      <th>Study type</th>\n",
              "      <th>Study design</th>\n",
              "      <th>Phase</th>\n",
              "      <th>Countries</th>\n",
              "      <th>Contact Firstname</th>\n",
              "      <th>Contact Lastname</th>\n",
              "      <th>Contact Address</th>\n",
              "      <th>Contact Email</th>\n",
              "      <th>Contact Tel</th>\n",
              "      <th>Contact Affiliation</th>\n",
              "      <th>Inclusion Criteria</th>\n",
              "      <th>Exclusion Criteria</th>\n",
              "      <th>Condition</th>\n",
              "      <th>Intervention</th>\n",
              "      <th>Primary outcome</th>\n",
              "      <th>results date posted</th>\n",
              "      <th>results date completed</th>\n",
              "      <th>results url link</th>\n",
              "      <th>Retrospective flag</th>\n",
              "      <th>Bridging flag truefalse</th>\n",
              "      <th>Bridged type</th>\n",
              "      <th>results yes no</th>\n",
              "    </tr>\n",
              "  </thead>\n",
              "  <tbody>\n",
              "    <tr>\n",
              "      <th>0</th>\n",
              "      <td>NCT04246242</td>\n",
              "      <td>3 February 2020</td>\n",
              "      <td>A Randomized Multicenter Controlled Clinical T...</td>\n",
              "      <td>A Randomized Multicenter Controlled Clinical T...</td>\n",
              "      <td>NaN</td>\n",
              "      <td>Xiangya Hospital of Central South University</td>\n",
              "      <td>27/01/2020</td>\n",
              "      <td>20200127</td>\n",
              "      <td>4/7/2020 10:40:56 AM</td>\n",
              "      <td>ClinicalTrials.gov</td>\n",
              "      <td>https://clinicaltrials.gov/show/NCT04246242</td>\n",
              "      <td>Not recruiting</td>\n",
              "      <td>No</td>\n",
              "      <td>NaN</td>\n",
              "      <td>NaN</td>\n",
              "      <td>All</td>\n",
              "      <td>January 25, 2020</td>\n",
              "      <td>500</td>\n",
              "      <td>Interventional</td>\n",
              "      <td>Allocation: Randomized. Intervention model: Pa...</td>\n",
              "      <td>Phase 4</td>\n",
              "      <td>NaN</td>\n",
              "      <td></td>\n",
              "      <td>Pinhua Pan, Medical PhD</td>\n",
              "      <td>NaN</td>\n",
              "      <td>pinhuapan668@126.com</td>\n",
              "      <td>+86 13574810968</td>\n",
              "      <td>NaN</td>\n",
              "      <td>\\r&lt;br&gt;        Inclusion Criteria:\\r&lt;br&gt;\\r&lt;br&gt; ...</td>\n",
              "      <td>NaN</td>\n",
              "      <td>2019 Novel Coronavirus</td>\n",
              "      <td>Drug: Conventional treatment group;Drug: arbid...</td>\n",
              "      <td>mortality</td>\n",
              "      <td>NaN</td>\n",
              "      <td>NaN</td>\n",
              "      <td>NaN</td>\n",
              "      <td>Yes</td>\n",
              "      <td>False</td>\n",
              "      <td></td>\n",
              "      <td>NaN</td>\n",
              "    </tr>\n",
              "    <tr>\n",
              "      <th>1</th>\n",
              "      <td>ChiCTR2000029949</td>\n",
              "      <td>17 February 2020</td>\n",
              "      <td>A Medical Records Based Study for the Effectiv...</td>\n",
              "      <td>A Medical Records Based Study for the Effectiv...</td>\n",
              "      <td>NaN</td>\n",
              "      <td>Emergency Department of Zhongnan hospital of W...</td>\n",
              "      <td>2020-02-16</td>\n",
              "      <td>20200216</td>\n",
              "      <td>4/7/2020 10:40:56 AM</td>\n",
              "      <td>ChiCTR</td>\n",
              "      <td>http://www.chictr.org.cn/showproj.aspx?proj=49181</td>\n",
              "      <td>Not Recruiting</td>\n",
              "      <td>No</td>\n",
              "      <td>18</td>\n",
              "      <td>NaN</td>\n",
              "      <td>Both</td>\n",
              "      <td>2020-02-16</td>\n",
              "      <td>Case series:40;</td>\n",
              "      <td>Observational study</td>\n",
              "      <td>Sequential</td>\n",
              "      <td>Retrospective study</td>\n",
              "      <td>China</td>\n",
              "      <td>Yan, Zhao</td>\n",
              "      <td>NaN</td>\n",
              "      <td>169 Donghu Road, Wuchang District, Wuhan, Hube...</td>\n",
              "      <td>doctoryanzhao@whu.edu.cn</td>\n",
              "      <td>+86 13995577963</td>\n",
              "      <td>Emergency Department of Zhongnan hospital of W...</td>\n",
              "      <td>Inclusion criteria: 1. Aged &gt;=18 years; \\r&lt;br&gt;...</td>\n",
              "      <td>Exclusion criteria: Absolutely forbidden crite...</td>\n",
              "      <td>Novel Coronavirus Pneumonia (COVID-19)</td>\n",
              "      <td>Case series:Extracorporeal Membrane Oxygenation;</td>\n",
              "      <td>inhospital length;inhospital mortality;ECMO tr...</td>\n",
              "      <td>NaN</td>\n",
              "      <td>NaN</td>\n",
              "      <td>NaN</td>\n",
              "      <td>Yes</td>\n",
              "      <td>False</td>\n",
              "      <td></td>\n",
              "      <td>NaN</td>\n",
              "    </tr>\n",
              "    <tr>\n",
              "      <th>2</th>\n",
              "      <td>NCT04245631</td>\n",
              "      <td>17 February 2020</td>\n",
              "      <td>Development of a Simple, Fast and Portable Rec...</td>\n",
              "      <td>Development of a Simple, Fast and Portable Rec...</td>\n",
              "      <td>NaN</td>\n",
              "      <td>Beijing Ditan Hospital</td>\n",
              "      <td>26/01/2020</td>\n",
              "      <td>20200126</td>\n",
              "      <td>4/7/2020 10:40:56 AM</td>\n",
              "      <td>ClinicalTrials.gov</td>\n",
              "      <td>https://clinicaltrials.gov/show/NCT04245631</td>\n",
              "      <td>Recruiting</td>\n",
              "      <td>No</td>\n",
              "      <td>1 Year</td>\n",
              "      <td>90 Years</td>\n",
              "      <td>All</td>\n",
              "      <td>January 1, 2020</td>\n",
              "      <td>50</td>\n",
              "      <td>Observational</td>\n",
              "      <td>NaN</td>\n",
              "      <td>NaN</td>\n",
              "      <td>China</td>\n",
              "      <td>; ;</td>\n",
              "      <td>Yao Xie, Doctor;Yao Xie, Doctor;Yao Xie, Doctor</td>\n",
              "      <td>NaN</td>\n",
              "      <td>;xieyao00120184@sina.com;xieyao00120184@sina.com</td>\n",
              "      <td>;8610-84322200;8610-84322200</td>\n",
              "      <td>Department of Hepatology, Division 2, Beijing ...</td>\n",
              "      <td>\\r&lt;br&gt;        Inclusion Criteria:\\r&lt;br&gt;\\r&lt;br&gt; ...</td>\n",
              "      <td>NaN</td>\n",
              "      <td>New Coronavirus</td>\n",
              "      <td>Diagnostic Test: Recombinase aided amplificati...</td>\n",
              "      <td>Detection specificity is greater than 95%;Dete...</td>\n",
              "      <td>NaN</td>\n",
              "      <td>NaN</td>\n",
              "      <td>NaN</td>\n",
              "      <td>Yes</td>\n",
              "      <td>False</td>\n",
              "      <td></td>\n",
              "      <td>NaN</td>\n",
              "    </tr>\n",
              "    <tr>\n",
              "      <th>3</th>\n",
              "      <td>NCT04252885</td>\n",
              "      <td>17 February 2020</td>\n",
              "      <td>The Efficacy of Lopinavir Plus Ritonavir and A...</td>\n",
              "      <td>A Randomized, Open-label, Controlled Study of ...</td>\n",
              "      <td>ELACOI</td>\n",
              "      <td>Guangzhou 8th People's Hospital</td>\n",
              "      <td>30/01/2020</td>\n",
              "      <td>20200130</td>\n",
              "      <td>4/7/2020 10:40:56 AM</td>\n",
              "      <td>ClinicalTrials.gov</td>\n",
              "      <td>https://clinicaltrials.gov/show/NCT04252885</td>\n",
              "      <td>Recruiting</td>\n",
              "      <td>No</td>\n",
              "      <td>18 Years</td>\n",
              "      <td>80 Years</td>\n",
              "      <td>All</td>\n",
              "      <td>January 28, 2020</td>\n",
              "      <td>125</td>\n",
              "      <td>Interventional</td>\n",
              "      <td>Allocation: Randomized. Intervention model: Pa...</td>\n",
              "      <td>Phase 4</td>\n",
              "      <td>China</td>\n",
              "      <td>;</td>\n",
              "      <td>Yueping Li, MD, Master;Linghua Li, MD, PhD</td>\n",
              "      <td>NaN</td>\n",
              "      <td>lipipi007@163.com;</td>\n",
              "      <td>020- 36052117;</td>\n",
              "      <td>NaN</td>\n",
              "      <td>\\r&lt;br&gt;        Inclusion Criteria:\\r&lt;br&gt;\\r&lt;br&gt; ...</td>\n",
              "      <td>NaN</td>\n",
              "      <td>Coronavirus Infections</td>\n",
              "      <td>Drug: Lopinavir and Ritonavir Tablets;Drug: Ar...</td>\n",
              "      <td>The rate of virus inhibition</td>\n",
              "      <td>NaN</td>\n",
              "      <td>NaN</td>\n",
              "      <td>NaN</td>\n",
              "      <td>Yes</td>\n",
              "      <td>False</td>\n",
              "      <td></td>\n",
              "      <td>NaN</td>\n",
              "    </tr>\n",
              "    <tr>\n",
              "      <th>4</th>\n",
              "      <td>NCT04255940</td>\n",
              "      <td>17 February 2020</td>\n",
              "      <td>2019-nCoV Outbreak and Cardiovascular Diseases</td>\n",
              "      <td>Impact of a Novel Coronavirus (2019-nCoV) Outb...</td>\n",
              "      <td>NaN</td>\n",
              "      <td>Qilu Hospital of Shandong University</td>\n",
              "      <td>03/02/2020</td>\n",
              "      <td>20200203</td>\n",
              "      <td>4/7/2020 10:40:56 AM</td>\n",
              "      <td>ClinicalTrials.gov</td>\n",
              "      <td>https://clinicaltrials.gov/show/NCT04255940</td>\n",
              "      <td>Recruiting</td>\n",
              "      <td>No</td>\n",
              "      <td>NaN</td>\n",
              "      <td>NaN</td>\n",
              "      <td>All</td>\n",
              "      <td>January 20, 2020</td>\n",
              "      <td>12000</td>\n",
              "      <td>Observational</td>\n",
              "      <td>NaN</td>\n",
              "      <td>Phase 4</td>\n",
              "      <td>China</td>\n",
              "      <td></td>\n",
              "      <td>Panpan Hao, MD</td>\n",
              "      <td>NaN</td>\n",
              "      <td>panda.how@sdu.edu.cn</td>\n",
              "      <td>86-18560086593</td>\n",
              "      <td>NaN</td>\n",
              "      <td>\\r&lt;br&gt;        Inclusion Criteria:\\r&lt;br&gt;\\r&lt;br&gt; ...</td>\n",
              "      <td>NaN</td>\n",
              "      <td>Cardiovascular Death; Major Adverse Cardiovasc...</td>\n",
              "      <td>NaN</td>\n",
              "      <td>Cardiovascular Death</td>\n",
              "      <td>NaN</td>\n",
              "      <td>NaN</td>\n",
              "      <td>NaN</td>\n",
              "      <td>Yes</td>\n",
              "      <td>False</td>\n",
              "      <td></td>\n",
              "      <td>NaN</td>\n",
              "    </tr>\n",
              "  </tbody>\n",
              "</table>\n",
              "</div>"
            ],
            "text/plain": [
              "            TrialID Last Refreshed on  ... Bridged type results yes no\n",
              "0       NCT04246242   3 February 2020  ...                         NaN\n",
              "1  ChiCTR2000029949  17 February 2020  ...                         NaN\n",
              "2       NCT04245631  17 February 2020  ...                         NaN\n",
              "3       NCT04252885  17 February 2020  ...                         NaN\n",
              "4       NCT04255940  17 February 2020  ...                         NaN\n",
              "\n",
              "[5 rows x 40 columns]"
            ]
          },
          "metadata": {
            "tags": []
          },
          "execution_count": 244
        }
      ]
    },
    {
      "cell_type": "markdown",
      "metadata": {
        "id": "J5iLX5HNlf6d",
        "colab_type": "text"
      },
      "source": [
        "While cleaning the columns, I observed that since the data source may be scraped, it consists some junk characters and numbers that distort our results. Moreover, the terms \"covid\", \"coronavirus\", \"novel\" and \"ncov\" all are often present and add little value to the intervention type"
      ]
    },
    {
      "cell_type": "code",
      "metadata": {
        "id": "Av-6jK2fT1Es",
        "colab_type": "code",
        "colab": {}
      },
      "source": [
        "#Cleaning the columns\n",
        "import re\n",
        "def cleaner(data):\n",
        "  data = data.replace('br','')\n",
        "  data = data.replace('covid','')\n",
        "  data = data.replace('coronavirus','')\n",
        "  data = data.replace('ncov','')\n",
        "  data = data.replace('novel','')\n",
        "  data = re.sub(r'([^a-zA-Z ]+?)', ' ', data).lower()\n",
        "  data = re.sub(r\"\\s\\s+\",\" \",data)\n",
        "  return data\n",
        "\n",
        "df = df.dropna(subset=['Intervention'])"
      ],
      "execution_count": 0,
      "outputs": []
    },
    {
      "cell_type": "code",
      "metadata": {
        "id": "idzy_JQOWSRI",
        "colab_type": "code",
        "colab": {}
      },
      "source": [
        "#Next step is to prepare a corpus for our TfIdf vectors\n",
        "def build_corpus(data,col):\n",
        "  corpus=[]\n",
        "  for sentence in data[col].iteritems():\n",
        "    corpus.append(sentence[1].rstrip())\n",
        "  return corpus\n",
        "\n"
      ],
      "execution_count": 0,
      "outputs": []
    },
    {
      "cell_type": "code",
      "metadata": {
        "id": "6CfdGwb5WUFb",
        "colab_type": "code",
        "colab": {}
      },
      "source": [
        "from sklearn.feature_extraction.text import TfidfVectorizer\n",
        "tfidf = TfidfVectorizer(stop_words='english')\n",
        "from sklearn.preprocessing import normalize\n",
        "def uniquevals(data):\n",
        "  l = list(set(data.split(\" \")))\n",
        "  return \" \".join(l)\n",
        "#In this short text matching I dont really care about order of words and don't really intend to capture repetitions.\n",
        "#Rather I just want to capture some keywords\n",
        "df['Intervention'] = df['Intervention'].apply(cleaner)\n",
        "df['Intervention'] = df['Intervention'].apply(uniquevals)\n",
        "corpus = build_corpus(df,'Intervention')\n",
        "xvec = tfidf.fit_transform(corpus) \n",
        "tf_idf_norm = normalize(xvec)\n",
        "tf_idf_array = tf_idf_norm.toarray()"
      ],
      "execution_count": 0,
      "outputs": []
    },
    {
      "cell_type": "markdown",
      "metadata": {
        "id": "0GMEX5RJowjx",
        "colab_type": "text"
      },
      "source": [
        "Our TF-IDF vector will have a high number of dimensions and can suffer from the curse of dimensionality so we reduce it using PCA"
      ]
    },
    {
      "cell_type": "code",
      "metadata": {
        "id": "X8-U90vL0hY1",
        "colab_type": "code",
        "colab": {}
      },
      "source": [
        "from sklearn.decomposition import PCA\n",
        "sklearn_pca = PCA(n_components = 2)\n",
        "pca_vec = sklearn_pca.fit_transform(tf_idf_array)"
      ],
      "execution_count": 0,
      "outputs": []
    },
    {
      "cell_type": "markdown",
      "metadata": {
        "id": "LwnpOApWo8PV",
        "colab_type": "text"
      },
      "source": [
        "Next, we observe the SSE vs No of clusters graph to observe an elbow as a possible estimate of the number of clusters"
      ]
    },
    {
      "cell_type": "code",
      "metadata": {
        "id": "Q5vhLgnSnJ9W",
        "colab_type": "code",
        "outputId": "f7be3903-0a98-40d1-dca4-30ddb2c3b945",
        "colab": {
          "base_uri": "https://localhost:8080/",
          "height": 562
        }
      },
      "source": [
        "#K Means Clustering on Interventions\n",
        "#To choose the number of cluster, we use an SSE measure and observe elbows in the graph\n",
        "from sklearn.cluster import KMeans\n",
        "def find_optimal_clusters(data, max_k):\n",
        "    iters = range(2, max_k+1, 2)\n",
        "    sse = []\n",
        "    for k in iters:\n",
        "        sse.append(KMeans(n_clusters=k, random_state=42).fit(data).inertia_)\n",
        "        print('Fit {} clusters'.format(k))\n",
        "        \n",
        "    f, ax = plt.subplots(1, 1)\n",
        "    ax.plot(iters, sse, marker='o')\n",
        "    ax.set_xlabel('Cluster Centers')\n",
        "    ax.set_xticks(iters)\n",
        "    ax.set_xticklabels(iters)\n",
        "    ax.set_ylabel('SSE')\n",
        "    \n",
        "find_optimal_clusters(pca_vec, 30)"
      ],
      "execution_count": 249,
      "outputs": [
        {
          "output_type": "stream",
          "text": [
            "Fit 2 clusters\n",
            "Fit 4 clusters\n",
            "Fit 6 clusters\n",
            "Fit 8 clusters\n",
            "Fit 10 clusters\n",
            "Fit 12 clusters\n",
            "Fit 14 clusters\n",
            "Fit 16 clusters\n",
            "Fit 18 clusters\n",
            "Fit 20 clusters\n",
            "Fit 22 clusters\n",
            "Fit 24 clusters\n",
            "Fit 26 clusters\n",
            "Fit 28 clusters\n",
            "Fit 30 clusters\n"
          ],
          "name": "stdout"
        },
        {
          "output_type": "display_data",
          "data": {
            "image/png": "[encoded data removed]",
            "text/plain": [
              "<Figure size 432x288 with 1 Axes>"
            ]
          },
          "metadata": {
            "tags": [],
            "needs_background": "light"
          }
        }
      ]
    },
    {
      "cell_type": "markdown",
      "metadata": {
        "id": "-vSOu9WcpKU9",
        "colab_type": "text"
      },
      "source": [
        "At around 6 clusters, we can observe an \"elbow\". We shall use this for our K-Means algorithm. In the next step, I will also create a scatter plot to visualize how our K-Means clustering has worked"
      ]
    },
    {
      "cell_type": "code",
      "metadata": {
        "id": "6XmflB9tl9HO",
        "colab_type": "code",
        "outputId": "3fc0b570-22a4-43f0-e049-b98f432e3546",
        "colab": {
          "base_uri": "https://localhost:8080/",
          "height": 265
        }
      },
      "source": [
        "kmeans = KMeans(n_clusters=6)\n",
        "fitted = kmeans.fit(pca_vec)\n",
        "prediction = kmeans.predict(pca_vec)\n",
        "plt.scatter(Y_sklearn[:, 0], Y_sklearn[:, 1],c=prediction, s=50, cmap='viridis')\n",
        "plt.show()"
      ],
      "execution_count": 250,
      "outputs": [
        {
          "output_type": "display_data",
          "data": {
            "image/png": "[encoded data removed]",
            "text/plain": [
              "<Figure size 432x288 with 1 Axes>"
            ]
          },
          "metadata": {
            "tags": [],
            "needs_background": "light"
          }
        }
      ]
    },
    {
      "cell_type": "code",
      "metadata": {
        "id": "TsbBMxQK3EN6",
        "colab_type": "code",
        "colab": {
          "base_uri": "https://localhost:8080/",
          "height": 678
        },
        "outputId": "f252150f-10a5-48a0-c576-9e3993e367ff"
      },
      "source": [
        "#Let's add our predicted classes to the dataset and save it\n",
        "df['class_label'] = prediction\n",
        "df.head()"
      ],
      "execution_count": 251,
      "outputs": [
        {
          "output_type": "execute_result",
          "data": {
            "text/html": [
              "<div>\n",
              "<style scoped>\n",
              "    .dataframe tbody tr th:only-of-type {\n",
              "        vertical-align: middle;\n",
              "    }\n",
              "\n",
              "    .dataframe tbody tr th {\n",
              "        vertical-align: top;\n",
              "    }\n",
              "\n",
              "    .dataframe thead th {\n",
              "        text-align: right;\n",
              "    }\n",
              "</style>\n",
              "<table border=\"1\" class=\"dataframe\">\n",
              "  <thead>\n",
              "    <tr style=\"text-align: right;\">\n",
              "      <th></th>\n",
              "      <th>TrialID</th>\n",
              "      <th>Last Refreshed on</th>\n",
              "      <th>Public title</th>\n",
              "      <th>Scientific title</th>\n",
              "      <th>Acronym</th>\n",
              "      <th>Primary sponsor</th>\n",
              "      <th>Date registration</th>\n",
              "      <th>Date registration3</th>\n",
              "      <th>Export date</th>\n",
              "      <th>Source Register</th>\n",
              "      <th>web address</th>\n",
              "      <th>Recruitment Status</th>\n",
              "      <th>other records</th>\n",
              "      <th>Inclusion agemin</th>\n",
              "      <th>Inclusion agemax</th>\n",
              "      <th>Inclusion gender</th>\n",
              "      <th>Date enrollement</th>\n",
              "      <th>Target size</th>\n",
              "      <th>Study type</th>\n",
              "      <th>Study design</th>\n",
              "      <th>Phase</th>\n",
              "      <th>Countries</th>\n",
              "      <th>Contact Firstname</th>\n",
              "      <th>Contact Lastname</th>\n",
              "      <th>Contact Address</th>\n",
              "      <th>Contact Email</th>\n",
              "      <th>Contact Tel</th>\n",
              "      <th>Contact Affiliation</th>\n",
              "      <th>Inclusion Criteria</th>\n",
              "      <th>Exclusion Criteria</th>\n",
              "      <th>Condition</th>\n",
              "      <th>Intervention</th>\n",
              "      <th>Primary outcome</th>\n",
              "      <th>results date posted</th>\n",
              "      <th>results date completed</th>\n",
              "      <th>results url link</th>\n",
              "      <th>Retrospective flag</th>\n",
              "      <th>Bridging flag truefalse</th>\n",
              "      <th>Bridged type</th>\n",
              "      <th>results yes no</th>\n",
              "      <th>class_label</th>\n",
              "    </tr>\n",
              "  </thead>\n",
              "  <tbody>\n",
              "    <tr>\n",
              "      <th>0</th>\n",
              "      <td>NCT04246242</td>\n",
              "      <td>3 February 2020</td>\n",
              "      <td>A Randomized Multicenter Controlled Clinical T...</td>\n",
              "      <td>A Randomized Multicenter Controlled Clinical T...</td>\n",
              "      <td>NaN</td>\n",
              "      <td>Xiangya Hospital of Central South University</td>\n",
              "      <td>27/01/2020</td>\n",
              "      <td>20200127</td>\n",
              "      <td>4/7/2020 10:40:56 AM</td>\n",
              "      <td>ClinicalTrials.gov</td>\n",
              "      <td>https://clinicaltrials.gov/show/NCT04246242</td>\n",
              "      <td>Not recruiting</td>\n",
              "      <td>No</td>\n",
              "      <td>NaN</td>\n",
              "      <td>NaN</td>\n",
              "      <td>All</td>\n",
              "      <td>January 25, 2020</td>\n",
              "      <td>500</td>\n",
              "      <td>Interventional</td>\n",
              "      <td>Allocation: Randomized. Intervention model: Pa...</td>\n",
              "      <td>Phase 4</td>\n",
              "      <td>NaN</td>\n",
              "      <td></td>\n",
              "      <td>Pinhua Pan, Medical PhD</td>\n",
              "      <td>NaN</td>\n",
              "      <td>pinhuapan668@126.com</td>\n",
              "      <td>+86 13574810968</td>\n",
              "      <td>NaN</td>\n",
              "      <td>\\r&lt;br&gt;        Inclusion Criteria:\\r&lt;br&gt;\\r&lt;br&gt; ...</td>\n",
              "      <td>NaN</td>\n",
              "      <td>2019 Novel Coronavirus</td>\n",
              "      <td>arbidol mg tid conventional group treatment drug</td>\n",
              "      <td>mortality</td>\n",
              "      <td>NaN</td>\n",
              "      <td>NaN</td>\n",
              "      <td>NaN</td>\n",
              "      <td>Yes</td>\n",
              "      <td>False</td>\n",
              "      <td></td>\n",
              "      <td>NaN</td>\n",
              "      <td>5</td>\n",
              "    </tr>\n",
              "    <tr>\n",
              "      <th>1</th>\n",
              "      <td>ChiCTR2000029949</td>\n",
              "      <td>17 February 2020</td>\n",
              "      <td>A Medical Records Based Study for the Effectiv...</td>\n",
              "      <td>A Medical Records Based Study for the Effectiv...</td>\n",
              "      <td>NaN</td>\n",
              "      <td>Emergency Department of Zhongnan hospital of W...</td>\n",
              "      <td>2020-02-16</td>\n",
              "      <td>20200216</td>\n",
              "      <td>4/7/2020 10:40:56 AM</td>\n",
              "      <td>ChiCTR</td>\n",
              "      <td>http://www.chictr.org.cn/showproj.aspx?proj=49181</td>\n",
              "      <td>Not Recruiting</td>\n",
              "      <td>No</td>\n",
              "      <td>18</td>\n",
              "      <td>NaN</td>\n",
              "      <td>Both</td>\n",
              "      <td>2020-02-16</td>\n",
              "      <td>Case series:40;</td>\n",
              "      <td>Observational study</td>\n",
              "      <td>Sequential</td>\n",
              "      <td>Retrospective study</td>\n",
              "      <td>China</td>\n",
              "      <td>Yan, Zhao</td>\n",
              "      <td>NaN</td>\n",
              "      <td>169 Donghu Road, Wuchang District, Wuhan, Hube...</td>\n",
              "      <td>doctoryanzhao@whu.edu.cn</td>\n",
              "      <td>+86 13995577963</td>\n",
              "      <td>Emergency Department of Zhongnan hospital of W...</td>\n",
              "      <td>Inclusion criteria: 1. Aged &gt;=18 years; \\r&lt;br&gt;...</td>\n",
              "      <td>Exclusion criteria: Absolutely forbidden crite...</td>\n",
              "      <td>Novel Coronavirus Pneumonia (COVID-19)</td>\n",
              "      <td>memane case series extracorporeal oxygenation</td>\n",
              "      <td>inhospital length;inhospital mortality;ECMO tr...</td>\n",
              "      <td>NaN</td>\n",
              "      <td>NaN</td>\n",
              "      <td>NaN</td>\n",
              "      <td>Yes</td>\n",
              "      <td>False</td>\n",
              "      <td></td>\n",
              "      <td>NaN</td>\n",
              "      <td>3</td>\n",
              "    </tr>\n",
              "    <tr>\n",
              "      <th>2</th>\n",
              "      <td>NCT04245631</td>\n",
              "      <td>17 February 2020</td>\n",
              "      <td>Development of a Simple, Fast and Portable Rec...</td>\n",
              "      <td>Development of a Simple, Fast and Portable Rec...</td>\n",
              "      <td>NaN</td>\n",
              "      <td>Beijing Ditan Hospital</td>\n",
              "      <td>26/01/2020</td>\n",
              "      <td>20200126</td>\n",
              "      <td>4/7/2020 10:40:56 AM</td>\n",
              "      <td>ClinicalTrials.gov</td>\n",
              "      <td>https://clinicaltrials.gov/show/NCT04245631</td>\n",
              "      <td>Recruiting</td>\n",
              "      <td>No</td>\n",
              "      <td>1 Year</td>\n",
              "      <td>90 Years</td>\n",
              "      <td>All</td>\n",
              "      <td>January 1, 2020</td>\n",
              "      <td>50</td>\n",
              "      <td>Observational</td>\n",
              "      <td>NaN</td>\n",
              "      <td>NaN</td>\n",
              "      <td>China</td>\n",
              "      <td>; ;</td>\n",
              "      <td>Yao Xie, Doctor;Yao Xie, Doctor;Yao Xie, Doctor</td>\n",
              "      <td>NaN</td>\n",
              "      <td>;xieyao00120184@sina.com;xieyao00120184@sina.com</td>\n",
              "      <td>;8610-84322200;8610-84322200</td>\n",
              "      <td>Department of Hepatology, Division 2, Beijing ...</td>\n",
              "      <td>\\r&lt;br&gt;        Inclusion Criteria:\\r&lt;br&gt;\\r&lt;br&gt; ...</td>\n",
              "      <td>NaN</td>\n",
              "      <td>New Coronavirus</td>\n",
              "      <td>aided diagnostic amplification assay recombina...</td>\n",
              "      <td>Detection specificity is greater than 95%;Dete...</td>\n",
              "      <td>NaN</td>\n",
              "      <td>NaN</td>\n",
              "      <td>NaN</td>\n",
              "      <td>Yes</td>\n",
              "      <td>False</td>\n",
              "      <td></td>\n",
              "      <td>NaN</td>\n",
              "      <td>5</td>\n",
              "    </tr>\n",
              "    <tr>\n",
              "      <th>3</th>\n",
              "      <td>NCT04252885</td>\n",
              "      <td>17 February 2020</td>\n",
              "      <td>The Efficacy of Lopinavir Plus Ritonavir and A...</td>\n",
              "      <td>A Randomized, Open-label, Controlled Study of ...</td>\n",
              "      <td>ELACOI</td>\n",
              "      <td>Guangzhou 8th People's Hospital</td>\n",
              "      <td>30/01/2020</td>\n",
              "      <td>20200130</td>\n",
              "      <td>4/7/2020 10:40:56 AM</td>\n",
              "      <td>ClinicalTrials.gov</td>\n",
              "      <td>https://clinicaltrials.gov/show/NCT04252885</td>\n",
              "      <td>Recruiting</td>\n",
              "      <td>No</td>\n",
              "      <td>18 Years</td>\n",
              "      <td>80 Years</td>\n",
              "      <td>All</td>\n",
              "      <td>January 28, 2020</td>\n",
              "      <td>125</td>\n",
              "      <td>Interventional</td>\n",
              "      <td>Allocation: Randomized. Intervention model: Pa...</td>\n",
              "      <td>Phase 4</td>\n",
              "      <td>China</td>\n",
              "      <td>;</td>\n",
              "      <td>Yueping Li, MD, Master;Linghua Li, MD, PhD</td>\n",
              "      <td>NaN</td>\n",
              "      <td>lipipi007@163.com;</td>\n",
              "      <td>020- 36052117;</td>\n",
              "      <td>NaN</td>\n",
              "      <td>\\r&lt;br&gt;        Inclusion Criteria:\\r&lt;br&gt;\\r&lt;br&gt; ...</td>\n",
              "      <td>NaN</td>\n",
              "      <td>Coronavirus Infections</td>\n",
              "      <td>arbidol lopinavir tablets ritonavir and drug</td>\n",
              "      <td>The rate of virus inhibition</td>\n",
              "      <td>NaN</td>\n",
              "      <td>NaN</td>\n",
              "      <td>NaN</td>\n",
              "      <td>Yes</td>\n",
              "      <td>False</td>\n",
              "      <td></td>\n",
              "      <td>NaN</td>\n",
              "      <td>2</td>\n",
              "    </tr>\n",
              "    <tr>\n",
              "      <th>6</th>\n",
              "      <td>ChiCTR2000029953</td>\n",
              "      <td>17 February 2020</td>\n",
              "      <td>Construction and Analysis of Prognostic Predic...</td>\n",
              "      <td>Construction and Analysis of Prognostic Predic...</td>\n",
              "      <td>NaN</td>\n",
              "      <td>Zhongnan Hospital of Wuhan University</td>\n",
              "      <td>2020-02-17</td>\n",
              "      <td>20200217</td>\n",
              "      <td>4/7/2020 10:40:56 AM</td>\n",
              "      <td>ChiCTR</td>\n",
              "      <td>http://www.chictr.org.cn/showproj.aspx?proj=49217</td>\n",
              "      <td>Not Recruiting</td>\n",
              "      <td>No</td>\n",
              "      <td>NaN</td>\n",
              "      <td>NaN</td>\n",
              "      <td>Both</td>\n",
              "      <td>2020-02-01</td>\n",
              "      <td>survival group:200;died:200;</td>\n",
              "      <td>Observational study</td>\n",
              "      <td>Factorial</td>\n",
              "      <td>NaN</td>\n",
              "      <td>China</td>\n",
              "      <td>Yan Zhao</td>\n",
              "      <td>NaN</td>\n",
              "      <td>169 Donghu Road, Wuchang District, Wuhan, Hube...</td>\n",
              "      <td>doctoryanzhao@whu.edu.cn</td>\n",
              "      <td>+86 13995577963</td>\n",
              "      <td>Emergency Department of Zhongnan Hospital of W...</td>\n",
              "      <td>Inclusion criteria: 2019-nCoV-infected pneumon...</td>\n",
              "      <td>Exclusion criteria: Patients diagnosed with pn...</td>\n",
              "      <td>2019-nCoV Pneumonia</td>\n",
              "      <td>none survival group died</td>\n",
              "      <td>duration of in hospital;in hospital mortality;...</td>\n",
              "      <td>NaN</td>\n",
              "      <td>NaN</td>\n",
              "      <td>NaN</td>\n",
              "      <td>No</td>\n",
              "      <td>False</td>\n",
              "      <td></td>\n",
              "      <td>NaN</td>\n",
              "      <td>0</td>\n",
              "    </tr>\n",
              "  </tbody>\n",
              "</table>\n",
              "</div>"
            ],
            "text/plain": [
              "            TrialID Last Refreshed on  ... results yes no class_label\n",
              "0       NCT04246242   3 February 2020  ...            NaN           5\n",
              "1  ChiCTR2000029949  17 February 2020  ...            NaN           3\n",
              "2       NCT04245631  17 February 2020  ...            NaN           5\n",
              "3       NCT04252885  17 February 2020  ...            NaN           2\n",
              "6  ChiCTR2000029953  17 February 2020  ...            NaN           0\n",
              "\n",
              "[5 rows x 41 columns]"
            ]
          },
          "metadata": {
            "tags": []
          },
          "execution_count": 251
        }
      ]
    },
    {
      "cell_type": "markdown",
      "metadata": {
        "id": "Cwep9TP4qDuN",
        "colab_type": "text"
      },
      "source": [
        "Next, we will visualize the top 5 keywords for every cluster to analyze the clusters formed"
      ]
    },
    {
      "cell_type": "code",
      "metadata": {
        "id": "OvPT9dA95jWq",
        "colab_type": "code",
        "colab": {}
      },
      "source": [
        "def get_top_features_cluster(tf_idf_array, prediction, n_feats):\n",
        "    labels = np.unique(prediction)\n",
        "    dfs = []\n",
        "    for label in labels:\n",
        "        id_temp = np.where(prediction==label) \n",
        "        x_means = np.mean(tf_idf_array[id_temp], axis = 0) \n",
        "        sorted_means = np.argsort(x_means)[::-1][:n_feats] \n",
        "        features = tfidf.get_feature_names()\n",
        "        best_features = [(features[i], x_means[i]) for i in sorted_means]\n",
        "        df_temp = pd.DataFrame(best_features, columns = ['keywords', 'score'])\n",
        "        dfs.append(df_temp)\n",
        "    return dfs\n",
        "dfs = get_top_features_cluster(tf_idf_array, prediction, 5)"
      ],
      "execution_count": 0,
      "outputs": []
    },
    {
      "cell_type": "code",
      "metadata": {
        "id": "w4Gsctyl6miV",
        "colab_type": "code",
        "outputId": "bfd6c8d5-8ebe-4449-e77a-56f3da0bc719",
        "colab": {
          "base_uri": "https://localhost:8080/",
          "height": 1000
        }
      },
      "source": [
        "for item in dfs:\n",
        "  ax = item.plot.barh(subplots=True,x='keywords', y='score')\n"
      ],
      "execution_count": 255,
      "outputs": [
        {
          "output_type": "display_data",
          "data": {
            "image/png": "[encoded data removed]",
            "text/plain": [
              "<Figure size 432x288 with 1 Axes>"
            ]
          },
          "metadata": {
            "tags": [],
            "needs_background": "light"
          }
        },
        {
          "output_type": "display_data",
          "data": {
            "image/png": "[encoded data removed]",
            "text/plain": [
              "<Figure size 432x288 with 1 Axes>"
            ]
          },
          "metadata": {
            "tags": [],
            "needs_background": "light"
          }
        },
        {
          "output_type": "display_data",
          "data": {
            "image/png": "[encoded data removed]",
            "text/plain": [
              "<Figure size 432x288 with 1 Axes>"
            ]
          },
          "metadata": {
            "tags": [],
            "needs_background": "light"
          }
        },
        {
          "output_type": "display_data",
          "data": {
            "image/png": "[encoded data removed]",
            "text/plain": [
              "<Figure size 432x288 with 1 Axes>"
            ]
          },
          "metadata": {
            "tags": [],
            "needs_background": "light"
          }
        },
        {
          "output_type": "display_data",
          "data": {
            "image/png": "[encoded data removed]",
            "text/plain": [
              "<Figure size 432x288 with 1 Axes>"
            ]
          },
          "metadata": {
            "tags": [],
            "needs_background": "light"
          }
        },
        {
          "output_type": "display_data",
          "data": {
            "image/png": "[encoded data removed]",
            "text/plain": [
              "<Figure size 432x288 with 1 Axes>"
            ]
          },
          "metadata": {
            "tags": [],
            "needs_background": "light"
          }
        }
      ]
    },
    {
      "cell_type": "markdown",
      "metadata": {
        "id": "cxvOdsNAqL2a",
        "colab_type": "text"
      },
      "source": [
        "As can be seen, 6 major cluster categories have been formed with these keywords. Some initial insights can be drawn from these clusters. For instance one cluster focuses on drug based interventions, one on testing techniques and standards, one on traditional medicines, another on case series and so on. Medical domain experts might be able to understand and interpret these"
      ]
    }
  ]
}